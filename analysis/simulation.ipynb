{
 "cells": [
  {
   "cell_type": "markdown",
   "id": "0",
   "metadata": {},
   "source": [
    "# Kippenstummel - Credibility Analysis"
   ]
  },
  {
   "cell_type": "code",
   "execution_count": null,
   "id": "1",
   "metadata": {},
   "outputs": [],
   "source": [
    "import json\n",
    "import pandas as pd\n",
    "import matplotlib.pyplot as plt"
   ]
  },
  {
   "cell_type": "markdown",
   "id": "2",
   "metadata": {},
   "source": [
    "## Simulation Data"
   ]
  },
  {
   "cell_type": "code",
   "execution_count": null,
   "id": "3",
   "metadata": {},
   "outputs": [],
   "source": [
    "with open(\"../test/simulation/trace-normal.json\") as file:\n",
    "    normal_data = json.load(file)\n",
    "\n",
    "normal_trace = pd.json_normalize(normal_data, sep=\"_\")\n",
    "\n",
    "with open(\"../test/simulation/trace-newbie.json\") as file:\n",
    "    newbie_data = json.load(file)\n",
    "\n",
    "newbie_trace = pd.json_normalize(newbie_data, sep=\"_\")\n",
    "\n",
    "with open(\"../test/simulation/trace-power.json\") as file:\n",
    "    power_data = json.load(file)\n",
    "\n",
    "power_trace = pd.json_normalize(power_data, sep=\"_\")\n",
    "\n",
    "with open(\"../test/simulation/trace-bot.json\") as file:\n",
    "    bot_data = json.load(file)\n",
    "\n",
    "bot_trace = pd.json_normalize(bot_data, sep=\"_\")\n",
    "\n",
    "with open(\"../test/simulation/trace-spam.json\") as file:\n",
    "    spam_data = json.load(file)\n",
    "\n",
    "spam_trace = pd.json_normalize(spam_data, sep=\"_\")"
   ]
  },
  {
   "cell_type": "markdown",
   "id": "4",
   "metadata": {},
   "source": [
    "## Analysis"
   ]
  },
  {
   "cell_type": "code",
   "execution_count": null,
   "id": "5",
   "metadata": {},
   "outputs": [],
   "source": [
    "fig = plt.figure(figsize=(10, 10))\n",
    "fig.suptitle(\"Credibility Distribution\", fontsize=10)\n",
    "\n",
    "# Normal Behaviour\n",
    "\n",
    "ax1 = fig.add_subplot(3, 2, 1)\n",
    "\n",
    "ax1.hist(normal_trace[\"credibility\"], bins=20, color=\"skyblue\", edgecolor=\"black\")\n",
    "\n",
    "ax1.set_title(\"Normal Behaviour\", fontsize=10)\n",
    "ax1.set_xlabel(\"Credibility\", fontsize=8)\n",
    "ax1.set_ylabel(\"Count\", fontsize=8)\n",
    "\n",
    "ax1.grid(True, linestyle=\"--\", alpha=0.7)\n",
    "\n",
    "# Power Behaviour\n",
    "\n",
    "ax2 = fig.add_subplot(3, 2, 2)\n",
    "\n",
    "ax2.hist(power_trace[\"credibility\"], bins=20, color=\"skyblue\", edgecolor=\"black\")\n",
    "\n",
    "ax2.set_title(\"Power Behaviour\", fontsize=10)\n",
    "ax2.set_xlabel(\"Credibility\", fontsize=8)\n",
    "ax2.set_ylabel(\"Count\", fontsize=8)\n",
    "\n",
    "ax2.grid(True, linestyle=\"--\", alpha=0.7)\n",
    "\n",
    "# Newbie Behaviour\n",
    "\n",
    "ax3 = fig.add_subplot(3, 2, 3)\n",
    "\n",
    "ax3.hist(newbie_trace[\"credibility\"], bins=20, color=\"skyblue\", edgecolor=\"black\")\n",
    "\n",
    "ax3.set_title(\"Newbie Behaviour\", fontsize=10)\n",
    "ax3.set_xlabel(\"Credibility\", fontsize=8)\n",
    "ax3.set_ylabel(\"Count\", fontsize=8)\n",
    "\n",
    "ax3.grid(True, linestyle=\"--\", alpha=0.7)\n",
    "\n",
    "# Bot Behaviour\n",
    "\n",
    "ax4 = fig.add_subplot(3, 2, 4)\n",
    "\n",
    "ax4.hist(bot_trace[\"credibility\"], bins=20, color=\"skyblue\", edgecolor=\"black\")\n",
    "\n",
    "ax4.set_title(\"Bot Behaviour\", fontsize=10)\n",
    "ax4.set_xlabel(\"Credibility\", fontsize=8)\n",
    "ax4.set_ylabel(\"Count\", fontsize=8)\n",
    "\n",
    "ax4.grid(True, linestyle=\"--\", alpha=0.7)\n",
    "\n",
    "# Spam Behaviour\n",
    "\n",
    "ax5 = fig.add_subplot(3, 2, 5)\n",
    "\n",
    "ax5.hist(spam_trace[\"credibility\"], bins=20, color=\"skyblue\", edgecolor=\"black\")\n",
    "\n",
    "ax5.set_title(\"Spam Behaviour\", fontsize=10)\n",
    "ax5.set_xlabel(\"Credibility\", fontsize=8)\n",
    "ax5.set_ylabel(\"Count\", fontsize=8)\n",
    "\n",
    "ax5.grid(True, linestyle=\"--\", alpha=0.7)\n",
    "\n",
    "plt.tight_layout()\n",
    "plt.show()"
   ]
  }
 ],
 "metadata": {
  "kernelspec": {
   "display_name": ".venv",
   "language": "python",
   "name": "python3"
  },
  "language_info": {
   "codemirror_mode": {
    "name": "ipython",
    "version": 3
   },
   "file_extension": ".py",
   "mimetype": "text/x-python",
   "name": "python",
   "nbconvert_exporter": "python",
   "pygments_lexer": "ipython3",
   "version": "3.11.9"
  }
 },
 "nbformat": 4,
 "nbformat_minor": 5
}
